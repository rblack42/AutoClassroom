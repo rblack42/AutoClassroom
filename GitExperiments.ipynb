{
 "cells": [
  {
   "cell_type": "markdown",
   "metadata": {},
   "source": [
    "## GitPython Experiments"
   ]
  },
  {
   "cell_type": "code",
   "execution_count": 2,
   "metadata": {
    "collapsed": true
   },
   "outputs": [],
   "source": [
    "from git import Repo"
   ]
  },
  {
   "cell_type": "code",
   "execution_count": 3,
   "metadata": {
    "collapsed": true
   },
   "outputs": [],
   "source": [
    "RDIR = \"_repos/SU-17/Brown-kenston/homework-KenstonBrown\""
   ]
  },
  {
   "cell_type": "code",
   "execution_count": 5,
   "metadata": {
    "collapsed": true
   },
   "outputs": [],
   "source": [
    "repo = Repo(RDIR)\n",
    "assert not repo.bare"
   ]
  },
  {
   "cell_type": "code",
   "execution_count": 12,
   "metadata": {},
   "outputs": [
    {
     "name": "stdout",
     "output_type": "stream",
     "text": [
      "Mon, 26 Jun 2017 02:04 Delete exam1 lab~\n",
      "Mon, 26 Jun 2017 02:04 Delete exam1 code notes~\n",
      "Mon, 26 Jun 2017 02:04 Delete Untitled Document~\n",
      "Mon, 26 Jun 2017 02:04 Delete Paragraph explaining code~\n",
      "Mon, 26 Jun 2017 02:04 Delete Paragraph explaining code.rst~\n",
      "Mon, 26 Jun 2017 02:00 more changes\n",
      "Mon, 26 Jun 2017 01:52 changes\n",
      "Mon, 26 Jun 2017 01:51 changes\n",
      "Mon, 26 Jun 2017 01:34 commit\n",
      "Mon, 26 Jun 2017 01:26 exam1 lab\n",
      "Tue, 13 Jun 2017 21:02 remove duplicate\n",
      "Tue, 13 Jun 2017 21:00 changes\n",
      "Tue, 13 Jun 2017 20:57 changes\n",
      "Tue, 13 Jun 2017 20:48 fixed\n",
      "Tue, 13 Jun 2017 20:44 clock speed results\n",
      "Mon, 12 Jun 2017 02:07 Finished homework 3\n",
      "Fri, 09 Jun 2017 00:09 fixed lines\n",
      "Fri, 09 Jun 2017 00:03 homework 2 completed\n",
      "Thu, 08 Jun 2017 01:54 ~ finished\n",
      "Thu, 08 Jun 2017 01:31 Create README.rst\n",
      "Thu, 08 Jun 2017 01:08 Create README.rst\n",
      "Thu, 08 Jun 2017 01:07 Update README.rst\n",
      "Thu, 08 Jun 2017 00:52 Create README.rst\n",
      "Thu, 08 Jun 2017 00:51 Create README.rst\n",
      "Wed, 07 Jun 2017 21:53 Update README.rst\n",
      "Thu, 01 Jun 2017 11:33 fixed typos\n",
      "Thu, 01 Jun 2017 11:30 fixed typos\n",
      "Thu, 01 Jun 2017 11:28 Initial template\n",
      "Thu, 01 Jun 2017 11:17 Initial commit\n"
     ]
    }
   ],
   "source": [
    "commits = list(repo.iter_commits('master', max_count=50))\n",
    "import time\n",
    "for commit in commits:\n",
    "    when = time.strftime(\"%a, %d %b %Y %H:%M\", time.gmtime(commit.committed_date))\n",
    "    message = commit.message.strip()\n",
    "    print(when,message)"
   ]
  },
  {
   "cell_type": "markdown",
   "metadata": {
    "collapsed": true
   },
   "source": [
    "### PyGithub Testing"
   ]
  },
  {
   "cell_type": "code",
   "execution_count": 14,
   "metadata": {},
   "outputs": [],
   "source": [
    "from github import Github"
   ]
  },
  {
   "cell_type": "code",
   "execution_count": 31,
   "metadata": {},
   "outputs": [],
   "source": [
    "g = Github(\"rblack42\", \"Numwit$925\")\n",
    "org = g.get_organization('ACC-COSC2325-001-SU17')"
   ]
  },
  {
   "cell_type": "code",
   "execution_count": 34,
   "metadata": {},
   "outputs": [
    {
     "name": "stdout",
     "output_type": "stream",
     "text": [
      "HWtemplate\n",
      "homework-PhillipPluto\n",
      "homework-SigmundDali\n",
      "homework-michaelpgraham91\n",
      "homework-KenstonBrown\n",
      "homework-rlin04\n",
      "homework-pgonzales09\n",
      "homework-ctindall\n",
      "homework-cnpalmer83\n",
      "homework-kevin-funderburg\n",
      "homework-alesharay\n",
      "homework-NewtonShearer\n",
      "homework-serena-marie\n",
      "homework-MarshallTX11\n",
      "homework-jbonewitz72\n",
      "homework-cagemonkey\n",
      "homework-JustTaPo\n",
      "homework-chan1346\n",
      "homework-Higgi5430\n",
      "homework-KGMaxey\n",
      "homework-nickeleye\n",
      "Lab1-Memory\n",
      "homework-XenteiBelvia09\n",
      "lab1-memory-unit-alesharay\n",
      "lab1-memory-unit-JustTaPo\n",
      "lab1-memory-unit-cagemonkey\n",
      "lab1-memory-unit-michaelpgraham91\n",
      "lab1-memory-unit-kevin-funderburg\n",
      "lab1-memory-unit-rlin04\n",
      "lab1-memory-unit-cnpalmer83\n",
      "lab1-memory-unit-NewtonShearer\n",
      "lab1-memory-unit-ctindall\n",
      "lab1-memory-unit-KGMaxey\n",
      "lab1-memory-unit-serena-marie\n",
      "lab1-memory-unit-KenstonBrown\n",
      "lab1-memory-unit-nickeleye\n",
      "lab1-memory-unit-Higgi5430\n",
      "lab1-memory-unit-SigmundDali\n",
      "Lab2-ALU\n",
      "lab1-memory-unit-XenteiBelvia09\n",
      "lab2-alu-unit-kevin-funderburg\n",
      "lab1-memory-unit-MarshallTX11\n",
      "lab2-alu-unit-alesharay\n",
      "lab2-alu-unit-ctindall\n",
      "lab2-alu-unit-rlin04\n",
      "lab1-memory-unit-PhillipPluto\n",
      "lab1-memory-unit-pgonzales09\n",
      "lab2-alu-unit-KenstonBrown\n",
      "lab2-alu-unit-NewtonShearer\n",
      "lab2-alu-unit-MarshallTX11\n",
      "lab2-alu-unit-XenteiBelvia09\n",
      "lab1-memory-unit-chan1346\n",
      "lab2-alu-unit-cnpalmer83\n",
      "lab2-alu-unit-serena-marie\n",
      "lab2-alu-unit-JustTaPo\n",
      "lab2-alu-unit-cagemonkey\n",
      "lab2-alu-unit-SigmundDali\n",
      "lab2-alu-unit-chan1346\n",
      "lab2-alu-unit-michaelpgraham91\n",
      "lab2-alu-unit-KGMaxey\n",
      "group-project1-foxtrot\n",
      "group-project1-delta\n",
      "group-project1-bravo\n",
      "group-project1-echo\n",
      "group-project1-alpha\n",
      "lab3-control-unit-KenstonBrown\n",
      "lab3-control-unit-alesharay\n",
      "lab2-alu-unit-PhillipPluto\n",
      "lab3-control-unit-cagemonkey\n",
      "lab3-control-unit-JustTaPo\n",
      "lab3-control-unit-NewtonShearer\n",
      "lab3-control-unit-chan1346\n",
      "lab3-control-unit-SigmundDali\n"
     ]
    }
   ],
   "source": [
    "repos = org.get_repos()\n",
    "for r in repos:\n",
    "    print(r.name)"
   ]
  },
  {
   "cell_type": "code",
   "execution_count": 24,
   "metadata": {},
   "outputs": [
    {
     "name": "stdout",
     "output_type": "stream",
     "text": [
      "AuthenticatedUser(login=None)\n"
     ]
    }
   ],
   "source": [
    "print(user)"
   ]
  },
  {
   "cell_type": "code",
   "execution_count": null,
   "metadata": {
    "collapsed": true
   },
   "outputs": [],
   "source": []
  }
 ],
 "metadata": {
  "kernelspec": {
   "display_name": "Python 3",
   "language": "python",
   "name": "python3"
  },
  "language_info": {
   "codemirror_mode": {
    "name": "ipython",
    "version": 3
   },
   "file_extension": ".py",
   "mimetype": "text/x-python",
   "name": "python",
   "nbconvert_exporter": "python",
   "pygments_lexer": "ipython3",
   "version": "3.6.1"
  }
 },
 "nbformat": 4,
 "nbformat_minor": 2
}
